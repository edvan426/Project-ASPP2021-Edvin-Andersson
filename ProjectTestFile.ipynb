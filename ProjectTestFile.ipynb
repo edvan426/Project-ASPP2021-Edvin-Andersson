{
 "cells": [
  {
   "cell_type": "code",
   "execution_count": null,
   "metadata": {},
   "outputs": [],
   "source": [
    "import solidhdf5 as sah\n",
    "import solidhdf5.utility as sut"
   ]
  },
  {
   "cell_type": "code",
   "execution_count": null,
   "metadata": {},
   "outputs": [],
   "source": [
    "from solidhdf5 import utility as sut\n",
    "import numpy as np\n",
    "\n",
    "#print(\"testing code\")\n",
    "\n",
    "#stuff for \"making\" dataset 2\n",
    "a1 = np.random.random((10,10,3))\n",
    "#print(a1)\n",
    "a2 = np.random.random((10,10,3))\n",
    "#print(a2)\n",
    "a3 = np.random.random((10,10,3))\n",
    "#print(a3)\n",
    "a4 = np.random.random((10,10,3))\n",
    "#print(a4)\n",
    "\n",
    "filename = \"yetanothertestfile.hdf5\"\n",
    "\n",
    "#storing data and testing that it does not overwrite \n",
    "sut.store(filename,a1,'[R,G,B]','testproject','PTMChmw','PES','20210223','08:30','EA0000','PESlt1')\n",
    "print()\n",
    "sut.store(filename,a2,'[R,G,B]','testproject','PTMChmw','PES','20210222','08:31','EA0000','PESlt_aft_dep1')\n",
    "print()\n",
    "sut.store(filename,a3,'[R,G,B]','testproject','PTMC','XPS','20210222','08:32','EA0001','XPShome1')\n",
    "print()\n",
    "sut.store(filename,a4,'[R,G,B]','testproject','PTMC','PES','20210223','08:33','EA0002','PES1')\n",
    "print()\n",
    "sut.store(filename,a4,'[R,G,B]','testproject','PTMC','PES','20210223','08:33','EA0002','PES_aft_dep1')\n",
    "print()\n",
    "sut.store(filename,a4,'[R,G,B]','testproject','PTMC','PES','20210223','08:33','EA0002','PES_aft_dep1')\n",
    "print()\n",
    "\n",
    "#loading data\n",
    "data1 = sut.load(filename,'EA0000/PESlt1')\n",
    "#print(data1)\n",
    "data2 = sut.load(filename,'EA0000/PESlt2')\n",
    "#print(data2)\n",
    "\n",
    "#showing paths\n",
    "sut.show(filename)"
   ]
  },
  {
   "cell_type": "code",
   "execution_count": null,
   "metadata": {},
   "outputs": [],
   "source": []
  },
  {
   "cell_type": "code",
   "execution_count": null,
   "metadata": {},
   "outputs": [],
   "source": []
  },
  {
   "cell_type": "code",
   "execution_count": null,
   "metadata": {},
   "outputs": [],
   "source": []
  },
  {
   "cell_type": "code",
   "execution_count": null,
   "metadata": {},
   "outputs": [],
   "source": []
  },
  {
   "cell_type": "code",
   "execution_count": null,
   "metadata": {},
   "outputs": [],
   "source": []
  },
  {
   "cell_type": "code",
   "execution_count": null,
   "metadata": {},
   "outputs": [],
   "source": []
  },
  {
   "cell_type": "code",
   "execution_count": null,
   "metadata": {},
   "outputs": [],
   "source": []
  },
  {
   "cell_type": "code",
   "execution_count": null,
   "metadata": {},
   "outputs": [],
   "source": []
  },
  {
   "cell_type": "code",
   "execution_count": null,
   "metadata": {},
   "outputs": [],
   "source": []
  },
  {
   "cell_type": "code",
   "execution_count": null,
   "metadata": {},
   "outputs": [],
   "source": []
  },
  {
   "cell_type": "code",
   "execution_count": null,
   "metadata": {},
   "outputs": [],
   "source": []
  },
  {
   "cell_type": "code",
   "execution_count": null,
   "metadata": {},
   "outputs": [],
   "source": []
  },
  {
   "cell_type": "code",
   "execution_count": null,
   "metadata": {},
   "outputs": [],
   "source": []
  },
  {
   "cell_type": "code",
   "execution_count": null,
   "metadata": {},
   "outputs": [],
   "source": []
  },
  {
   "cell_type": "code",
   "execution_count": null,
   "metadata": {},
   "outputs": [],
   "source": []
  }
 ],
 "metadata": {
  "kernelspec": {
   "display_name": "Python 3",
   "language": "python",
   "name": "python3"
  },
  "language_info": {
   "codemirror_mode": {
    "name": "ipython",
    "version": 3
   },
   "file_extension": ".py",
   "mimetype": "text/x-python",
   "name": "python",
   "nbconvert_exporter": "python",
   "pygments_lexer": "ipython3",
   "version": "3.8.5"
  }
 },
 "nbformat": 4,
 "nbformat_minor": 4
}
